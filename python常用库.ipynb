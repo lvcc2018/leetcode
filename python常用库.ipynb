{
 "cells": [
  {
   "cell_type": "code",
   "execution_count": null,
   "metadata": {},
   "outputs": [],
   "source": [
    "# os库\n",
    "import os\n",
    "\n",
    "## 属性\n",
    "os.name # 操作系统类型\n",
    "os.uname() # 操作系统详细信息\n",
    "os.environ # 环境变量\n",
    "os.environ.get('PATH') # 获取某个环境变量的值\n",
    "os.curdir # 返回当前目录: ('.')\n",
    "os.pardir # 获取当前目录的父目录字符串名：('..')\n",
    "os.sep # 输出操作系统特定的路径分隔符，win下为\"\\\\\",Linux下为\"/\"\n",
    "os.linesep # 输出当前平台使用的行终止符，win下为\"\\r\n",
    "\n",
    "## path模块\n",
    "os.path.exists(\"README.md\") # 判断文件是否存在\n",
    "os.path.isfile(\"README.md\") # 判断是否是文件\n",
    "os.path.isdir(\"README.md\") # 判断是否是目录\n",
    "os.path.basename(\"dir1/dir2/file.ext\") # 返回文件名\n",
    "os.path.dirname(\"dir1/dir2/file.ext\") # 返回目录路径\n",
    "os.path.split(\"dir1/dir2/file.ext\") # 分割文件名与路径\n",
    "os.path.splitext(\"dir1/dir2/file.ext\") # 分割扩展名\n",
    "os.path.join(\"dir1\", \"dir2\", \"file.ext\") # 连接目录与文件名或目录\n",
    "os.path.getsize(\"README.md\") # 返回文件大小，以字节为单位\n",
    "\n",
    "## 目录操作\n",
    "os.listdir(path='.') # 返回指定的文件夹包含的文件或文件夹的名字的列表\n",
    "os.getcwd() # 获取当前工作目录，即当前python脚本工作的目录路径\n",
    "os.mkdir(\"newdir\") # 生成单级目录；相当于shell中mkdir dirname\n",
    "os.makedirs(\"parent/child/newdir\") # 生成多级目录\n",
    "os.rmdir(\"newdir\")\n",
    "os.removedirs(\"parent/child/newdir\") # 递归删除目录\n",
    "os.remove(\"dog.copy.jpeg\") # 删除一个文件\n",
    "\n",
    "## 其他\n",
    "os.getenv(\"PATH\") # 获取指定的系统环境变量值\n",
    "os.get_exec_path() # 返回一个当前所有可执行程序的搜索路径，是一个list\n",
    "os.system(\"ls -l\") # 运行shell命令，直接显示"
   ]
  }
 ],
 "metadata": {
  "kernelspec": {
   "display_name": "Python 3.9.12 ('base')",
   "language": "python",
   "name": "python3"
  },
  "language_info": {
   "codemirror_mode": {
    "name": "ipython",
    "version": 3
   },
   "file_extension": ".py",
   "mimetype": "text/x-python",
   "name": "python",
   "nbconvert_exporter": "python",
   "pygments_lexer": "ipython3",
   "version": "3.9.12"
  },
  "orig_nbformat": 4,
  "vscode": {
   "interpreter": {
    "hash": "a1cc264ae610bd5199c428429b0cffc0e9740906f50266e5f02de9fb7fff1001"
   }
  }
 },
 "nbformat": 4,
 "nbformat_minor": 2
}
